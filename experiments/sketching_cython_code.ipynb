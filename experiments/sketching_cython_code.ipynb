{
 "cells": [
  {
   "attachments": {},
   "cell_type": "markdown",
   "metadata": {},
   "source": [
    "# Levenshtein in pure Python"
   ]
  },
  {
   "cell_type": "code",
   "execution_count": 12,
   "metadata": {},
   "outputs": [],
   "source": [
    "import sys\n",
    "sys.path.append('/home/cloves-paiva/Documentos/personal-projects/FuzzCy/src')"
   ]
  },
  {
   "cell_type": "code",
   "execution_count": 16,
   "metadata": {},
   "outputs": [],
   "source": [
    "from core.levenshtein import min_distance_editor"
   ]
  },
  {
   "cell_type": "code",
   "execution_count": 14,
   "metadata": {},
   "outputs": [
    {
     "name": "stdout",
     "output_type": "stream",
     "text": [
      "64.7 µs ± 3.04 µs per loop (mean ± std. dev. of 7 runs, 10,000 loops each)\n"
     ]
    }
   ],
   "source": [
    "%timeit min_distance_editor(\"cloves\", \"clóvis\")"
   ]
  },
  {
   "attachments": {},
   "cell_type": "markdown",
   "metadata": {},
   "source": [
    "# Levenshtein in Cython"
   ]
  },
  {
   "cell_type": "code",
   "execution_count": 2,
   "metadata": {},
   "outputs": [],
   "source": [
    "%load_ext cython"
   ]
  },
  {
   "cell_type": "code",
   "execution_count": 3,
   "metadata": {},
   "outputs": [],
   "source": [
    "%%cython\n",
    "import numpy as np\n",
    "\n",
    "cpdef long[:,:] cy_initialize_matrix(int rows, int cols):\n",
    "    return np.zeros((rows, cols), dtype=int)\n",
    "\n",
    "\n",
    "cpdef unsigned long cy_min_distance_editor(str string1, str string2):\n",
    "    \"\"\"\n",
    "    Return the minimum distance edit between two strings.\n",
    "    \"\"\"\n",
    "    cdef long[:,:] matrix = cy_initialize_matrix(rows=len(string1) + 1, cols=len(string2) + 1)\n",
    "    cdef:\n",
    "        int row_index, col_index\n",
    "    for row_index in range(len(matrix)):\n",
    "        for col_index in range(len(matrix[0])):\n",
    "            if row_index == 0 and col_index == 0:\n",
    "                matrix[row_index][col_index] = 0\n",
    "            elif row_index == 0:\n",
    "                matrix[row_index][col_index] = matrix[row_index][col_index - 1] + 1\n",
    "            elif col_index == 0:\n",
    "                matrix[row_index][col_index] = matrix[row_index - 1][col_index] + 1\n",
    "            else:\n",
    "                if string1[row_index-1] != string2[col_index-1]:\n",
    "                    matrix[row_index][col_index] = (\n",
    "                        min(matrix[row_index - 1][col_index - 1], matrix[row_index][col_index - 1], matrix[row_index - 1][col_index])\n",
    "                        + 1\n",
    "                    )\n",
    "                else:\n",
    "                    matrix[row_index][col_index] = matrix[row_index - 1][col_index - 1]\n",
    "    return matrix[-1][-1]"
   ]
  },
  {
   "cell_type": "code",
   "execution_count": 4,
   "metadata": {},
   "outputs": [
    {
     "name": "stdout",
     "output_type": "stream",
     "text": [
      "4.43 µs ± 361 ns per loop (mean ± std. dev. of 7 runs, 100,000 loops each)\n"
     ]
    }
   ],
   "source": [
    "%timeit cy_min_distance_editor(\"cloves\", \"clóvis\")"
   ]
  },
  {
   "attachments": {},
   "cell_type": "markdown",
   "metadata": {},
   "source": [
    "- 26 microsegundos (2.48 vezes mais rápido)\n",
    "- 6.54 microsegundos (9.9 vezes mais rápido)\n",
    "- 4.77 microsegundos (13.56 vezes mais rápido)"
   ]
  },
  {
   "cell_type": "code",
   "execution_count": 38,
   "metadata": {},
   "outputs": [
    {
     "data": {
      "text/plain": [
       "13.563941299790358"
      ]
     },
     "execution_count": 38,
     "metadata": {},
     "output_type": "execute_result"
    }
   ],
   "source": [
    "64.7/4.77"
   ]
  },
  {
   "cell_type": "code",
   "execution_count": 26,
   "metadata": {},
   "outputs": [],
   "source": [
    "import numpy as np"
   ]
  },
  {
   "cell_type": "code",
   "execution_count": 28,
   "metadata": {},
   "outputs": [],
   "source": [
    "t = np.zeros((2, 3))"
   ]
  },
  {
   "cell_type": "code",
   "execution_count": 29,
   "metadata": {},
   "outputs": [
    {
     "data": {
      "text/plain": [
       "array([[0., 0., 0.],\n",
       "       [0., 2., 0.]])"
      ]
     },
     "execution_count": 29,
     "metadata": {},
     "output_type": "execute_result"
    }
   ],
   "source": [
    "t[1][1] = 2\n",
    "t"
   ]
  }
 ],
 "metadata": {
  "kernelspec": {
   "display_name": "fuzzcy-TQQ1_tV5-py3.10",
   "language": "python",
   "name": "python3"
  },
  "language_info": {
   "codemirror_mode": {
    "name": "ipython",
    "version": 3
   },
   "file_extension": ".py",
   "mimetype": "text/x-python",
   "name": "python",
   "nbconvert_exporter": "python",
   "pygments_lexer": "ipython3",
   "version": "3.10.6"
  },
  "orig_nbformat": 4
 },
 "nbformat": 4,
 "nbformat_minor": 2
}
